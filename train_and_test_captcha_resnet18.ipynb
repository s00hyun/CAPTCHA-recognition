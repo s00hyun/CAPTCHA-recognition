{
  "nbformat": 4,
  "nbformat_minor": 0,
  "metadata": {
    "colab": {
      "name": "train_and_test_captcha_resnet18.ipynb",
      "provenance": [],
      "collapsed_sections": [],
      "authorship_tag": "ABX9TyPwR0OWwi5ZqcP4PmSc/jSr"
    },
    "kernelspec": {
      "name": "python3",
      "display_name": "Python 3"
    },
    "accelerator": "GPU"
  },
  "cells": [
    {
      "cell_type": "markdown",
      "metadata": {
        "id": "NvLvpFhcSAXk",
        "colab_type": "text"
      },
      "source": [
        "# Train and Test the Preprocessed CAPTCHA Images with ResNet-18\n",
        "\n",
        "* Original Dataset\n",
        "  * [Version 2 CAPTCHA Images (from Kaggle)](https://www.kaggle.com/fournierp/captcha-version-2-images)\n",
        "    * 1070 images files of 5 letter words (200 x 50, .png or .jpg) \n",
        "      * Train: 749 images * 5 chars (70% of dataset)\n",
        "        * Reduced to 3207 char images after preprocessing\n",
        "      * Test: 321 images * 5 chars (30% of dataset)\n",
        "\n",
        "* Preprocessed Dataset\n",
        "  * See [image_preprocess.ipynb](image_preprocess.ipynb) to check the process and download the dataset.\n",
        "  * charset = ['2', '3', '4', '5', '6', '7', '8', 'b', 'c', 'd', 'e', 'f', 'g', 'm', 'n', 'p', 'w', 'x', 'y'] (19 classes)\n",
        "  "
      ]
    },
    {
      "cell_type": "markdown",
      "metadata": {
        "id": "X40NEhYNqVOG",
        "colab_type": "text"
      },
      "source": [
        "## 1. Load Preprocessed Images (Training Dataset)"
      ]
    },
    {
      "cell_type": "code",
      "metadata": {
        "id": "bQKPnEqme8Hi",
        "colab_type": "code",
        "colab": {
          "base_uri": "https://localhost:8080/",
          "height": 122
        },
        "outputId": "f3f06364-33a6-4210-b495-5fee489a7f71"
      },
      "source": [
        "from google.colab import drive\n",
        "drive.mount('/content/gdrive/')"
      ],
      "execution_count": 2,
      "outputs": [
        {
          "output_type": "stream",
          "text": [
            "Go to this URL in a browser: https://accounts.google.com/o/oauth2/auth?client_id=947318989803-6bn6qk8qdgf4n4g3pfee6491hc0brc4i.apps.googleusercontent.com&redirect_uri=urn%3aietf%3awg%3aoauth%3a2.0%3aoob&response_type=code&scope=email%20https%3a%2f%2fwww.googleapis.com%2fauth%2fdocs.test%20https%3a%2f%2fwww.googleapis.com%2fauth%2fdrive%20https%3a%2f%2fwww.googleapis.com%2fauth%2fdrive.photos.readonly%20https%3a%2f%2fwww.googleapis.com%2fauth%2fpeopleapi.readonly\n",
            "\n",
            "Enter your authorization code:\n",
            "··········\n",
            "Mounted at /content/gdrive/\n"
          ],
          "name": "stdout"
        }
      ]
    },
    {
      "cell_type": "code",
      "metadata": {
        "id": "JKhqnUD5fNxr",
        "colab_type": "code",
        "colab": {
          "base_uri": "https://localhost:8080/",
          "height": 34
        },
        "outputId": "dcdab845-f062-4aed-bdb4-d12919e056bc"
      },
      "source": [
        "%pwd"
      ],
      "execution_count": 3,
      "outputs": [
        {
          "output_type": "execute_result",
          "data": {
            "text/plain": [
              "'/content'"
            ]
          },
          "metadata": {
            "tags": []
          },
          "execution_count": 3
        }
      ]
    },
    {
      "cell_type": "code",
      "metadata": {
        "id": "MiMF94MrfPi1",
        "colab_type": "code",
        "colab": {
          "base_uri": "https://localhost:8080/",
          "height": 119
        },
        "outputId": "7cf767dc-5525-421e-a0e5-c01e11bc8c32"
      },
      "source": [
        "%ls -al"
      ],
      "execution_count": 4,
      "outputs": [
        {
          "output_type": "stream",
          "text": [
            "total 20\n",
            "drwxr-xr-x 1 root root 4096 Jun 20 15:44 \u001b[0m\u001b[01;34m.\u001b[0m/\n",
            "drwxr-xr-x 1 root root 4096 Jun 20 14:30 \u001b[01;34m..\u001b[0m/\n",
            "drwxr-xr-x 1 root root 4096 Jun 17 16:18 \u001b[01;34m.config\u001b[0m/\n",
            "drwx------ 4 root root 4096 Jun 20 15:44 \u001b[01;34mgdrive\u001b[0m/\n",
            "drwxr-xr-x 1 root root 4096 Jun 17 16:18 \u001b[01;34msample_data\u001b[0m/\n"
          ],
          "name": "stdout"
        }
      ]
    },
    {
      "cell_type": "code",
      "metadata": {
        "id": "g3EPWb72fbfU",
        "colab_type": "code",
        "colab": {
          "base_uri": "https://localhost:8080/",
          "height": 357
        },
        "outputId": "2b12ee18-d26c-45d3-97cd-5e117d0701dc"
      },
      "source": [
        "import os, shutil\n",
        "\n",
        "train_dir = \"gdrive/My Drive/Colab Notebooks/term_project/dataset/train\"\n",
        "dirs = os.listdir(train_dir)\n",
        "total_images = 0\n",
        "for d in dirs:\n",
        "  path = os.path.join(train_dir, d)\n",
        "  files = os.listdir(path);\n",
        "  img_files = [f for f in files if f.endswith(\".png\") or f.endswith(\".jpg\")]\n",
        "  img_cnt = len(img_files)\n",
        "  total_images += img_cnt\n",
        "  print(\"There are\", img_cnt, \"images in\", os.path.join(train_dir, d))\n",
        "print(\"## Total:\", total_images, \"images\")"
      ],
      "execution_count": 5,
      "outputs": [
        {
          "output_type": "stream",
          "text": [
            "There are 142 images in gdrive/My Drive/Colab Notebooks/term_project/dataset/train/2\n",
            "There are 172 images in gdrive/My Drive/Colab Notebooks/term_project/dataset/train/3\n",
            "There are 174 images in gdrive/My Drive/Colab Notebooks/term_project/dataset/train/4\n",
            "There are 184 images in gdrive/My Drive/Colab Notebooks/term_project/dataset/train/5\n",
            "There are 174 images in gdrive/My Drive/Colab Notebooks/term_project/dataset/train/6\n",
            "There are 171 images in gdrive/My Drive/Colab Notebooks/term_project/dataset/train/7\n",
            "There are 171 images in gdrive/My Drive/Colab Notebooks/term_project/dataset/train/8\n",
            "There are 167 images in gdrive/My Drive/Colab Notebooks/term_project/dataset/train/b\n",
            "There are 177 images in gdrive/My Drive/Colab Notebooks/term_project/dataset/train/c\n",
            "There are 163 images in gdrive/My Drive/Colab Notebooks/term_project/dataset/train/d\n",
            "There are 158 images in gdrive/My Drive/Colab Notebooks/term_project/dataset/train/e\n",
            "There are 173 images in gdrive/My Drive/Colab Notebooks/term_project/dataset/train/f\n",
            "There are 158 images in gdrive/My Drive/Colab Notebooks/term_project/dataset/train/g\n",
            "There are 161 images in gdrive/My Drive/Colab Notebooks/term_project/dataset/train/m\n",
            "There are 299 images in gdrive/My Drive/Colab Notebooks/term_project/dataset/train/n\n",
            "There are 163 images in gdrive/My Drive/Colab Notebooks/term_project/dataset/train/p\n",
            "There are 131 images in gdrive/My Drive/Colab Notebooks/term_project/dataset/train/w\n",
            "There are 142 images in gdrive/My Drive/Colab Notebooks/term_project/dataset/train/x\n",
            "There are 127 images in gdrive/My Drive/Colab Notebooks/term_project/dataset/train/y\n",
            "## Total: 3207 images\n"
          ],
          "name": "stdout"
        }
      ]
    },
    {
      "cell_type": "markdown",
      "metadata": {
        "id": "AZ_cej0eqBRK",
        "colab_type": "text"
      },
      "source": [
        "## 2. Set Model and DataLoaders"
      ]
    },
    {
      "cell_type": "code",
      "metadata": {
        "id": "vFrTFXtcgaEU",
        "colab_type": "code",
        "colab": {}
      },
      "source": [
        "import torch\n",
        "import torch.nn as nn\n",
        "import torchvision.transforms as transforms\n",
        "from torchvision.datasets import ImageFolder\n",
        "from torch.utils.data import Dataset, DataLoader\n",
        "import matplotlib.pyplot as plt\n",
        "from torchvision import models"
      ],
      "execution_count": 6,
      "outputs": []
    },
    {
      "cell_type": "code",
      "metadata": {
        "id": "46PDO6xdpomK",
        "colab_type": "code",
        "colab": {
          "base_uri": "https://localhost:8080/",
          "height": 1000
        },
        "outputId": "db4a9b1a-a5a9-40c2-ca70-21146c2d869b"
      },
      "source": [
        "model = models.resnet18(pretrained=False)\n",
        "print(model.modules)"
      ],
      "execution_count": 6,
      "outputs": [
        {
          "output_type": "stream",
          "text": [
            "<bound method Module.modules of ResNet(\n",
            "  (conv1): Conv2d(3, 64, kernel_size=(7, 7), stride=(2, 2), padding=(3, 3), bias=False)\n",
            "  (bn1): BatchNorm2d(64, eps=1e-05, momentum=0.1, affine=True, track_running_stats=True)\n",
            "  (relu): ReLU(inplace=True)\n",
            "  (maxpool): MaxPool2d(kernel_size=3, stride=2, padding=1, dilation=1, ceil_mode=False)\n",
            "  (layer1): Sequential(\n",
            "    (0): BasicBlock(\n",
            "      (conv1): Conv2d(64, 64, kernel_size=(3, 3), stride=(1, 1), padding=(1, 1), bias=False)\n",
            "      (bn1): BatchNorm2d(64, eps=1e-05, momentum=0.1, affine=True, track_running_stats=True)\n",
            "      (relu): ReLU(inplace=True)\n",
            "      (conv2): Conv2d(64, 64, kernel_size=(3, 3), stride=(1, 1), padding=(1, 1), bias=False)\n",
            "      (bn2): BatchNorm2d(64, eps=1e-05, momentum=0.1, affine=True, track_running_stats=True)\n",
            "    )\n",
            "    (1): BasicBlock(\n",
            "      (conv1): Conv2d(64, 64, kernel_size=(3, 3), stride=(1, 1), padding=(1, 1), bias=False)\n",
            "      (bn1): BatchNorm2d(64, eps=1e-05, momentum=0.1, affine=True, track_running_stats=True)\n",
            "      (relu): ReLU(inplace=True)\n",
            "      (conv2): Conv2d(64, 64, kernel_size=(3, 3), stride=(1, 1), padding=(1, 1), bias=False)\n",
            "      (bn2): BatchNorm2d(64, eps=1e-05, momentum=0.1, affine=True, track_running_stats=True)\n",
            "    )\n",
            "  )\n",
            "  (layer2): Sequential(\n",
            "    (0): BasicBlock(\n",
            "      (conv1): Conv2d(64, 128, kernel_size=(3, 3), stride=(2, 2), padding=(1, 1), bias=False)\n",
            "      (bn1): BatchNorm2d(128, eps=1e-05, momentum=0.1, affine=True, track_running_stats=True)\n",
            "      (relu): ReLU(inplace=True)\n",
            "      (conv2): Conv2d(128, 128, kernel_size=(3, 3), stride=(1, 1), padding=(1, 1), bias=False)\n",
            "      (bn2): BatchNorm2d(128, eps=1e-05, momentum=0.1, affine=True, track_running_stats=True)\n",
            "      (downsample): Sequential(\n",
            "        (0): Conv2d(64, 128, kernel_size=(1, 1), stride=(2, 2), bias=False)\n",
            "        (1): BatchNorm2d(128, eps=1e-05, momentum=0.1, affine=True, track_running_stats=True)\n",
            "      )\n",
            "    )\n",
            "    (1): BasicBlock(\n",
            "      (conv1): Conv2d(128, 128, kernel_size=(3, 3), stride=(1, 1), padding=(1, 1), bias=False)\n",
            "      (bn1): BatchNorm2d(128, eps=1e-05, momentum=0.1, affine=True, track_running_stats=True)\n",
            "      (relu): ReLU(inplace=True)\n",
            "      (conv2): Conv2d(128, 128, kernel_size=(3, 3), stride=(1, 1), padding=(1, 1), bias=False)\n",
            "      (bn2): BatchNorm2d(128, eps=1e-05, momentum=0.1, affine=True, track_running_stats=True)\n",
            "    )\n",
            "  )\n",
            "  (layer3): Sequential(\n",
            "    (0): BasicBlock(\n",
            "      (conv1): Conv2d(128, 256, kernel_size=(3, 3), stride=(2, 2), padding=(1, 1), bias=False)\n",
            "      (bn1): BatchNorm2d(256, eps=1e-05, momentum=0.1, affine=True, track_running_stats=True)\n",
            "      (relu): ReLU(inplace=True)\n",
            "      (conv2): Conv2d(256, 256, kernel_size=(3, 3), stride=(1, 1), padding=(1, 1), bias=False)\n",
            "      (bn2): BatchNorm2d(256, eps=1e-05, momentum=0.1, affine=True, track_running_stats=True)\n",
            "      (downsample): Sequential(\n",
            "        (0): Conv2d(128, 256, kernel_size=(1, 1), stride=(2, 2), bias=False)\n",
            "        (1): BatchNorm2d(256, eps=1e-05, momentum=0.1, affine=True, track_running_stats=True)\n",
            "      )\n",
            "    )\n",
            "    (1): BasicBlock(\n",
            "      (conv1): Conv2d(256, 256, kernel_size=(3, 3), stride=(1, 1), padding=(1, 1), bias=False)\n",
            "      (bn1): BatchNorm2d(256, eps=1e-05, momentum=0.1, affine=True, track_running_stats=True)\n",
            "      (relu): ReLU(inplace=True)\n",
            "      (conv2): Conv2d(256, 256, kernel_size=(3, 3), stride=(1, 1), padding=(1, 1), bias=False)\n",
            "      (bn2): BatchNorm2d(256, eps=1e-05, momentum=0.1, affine=True, track_running_stats=True)\n",
            "    )\n",
            "  )\n",
            "  (layer4): Sequential(\n",
            "    (0): BasicBlock(\n",
            "      (conv1): Conv2d(256, 512, kernel_size=(3, 3), stride=(2, 2), padding=(1, 1), bias=False)\n",
            "      (bn1): BatchNorm2d(512, eps=1e-05, momentum=0.1, affine=True, track_running_stats=True)\n",
            "      (relu): ReLU(inplace=True)\n",
            "      (conv2): Conv2d(512, 512, kernel_size=(3, 3), stride=(1, 1), padding=(1, 1), bias=False)\n",
            "      (bn2): BatchNorm2d(512, eps=1e-05, momentum=0.1, affine=True, track_running_stats=True)\n",
            "      (downsample): Sequential(\n",
            "        (0): Conv2d(256, 512, kernel_size=(1, 1), stride=(2, 2), bias=False)\n",
            "        (1): BatchNorm2d(512, eps=1e-05, momentum=0.1, affine=True, track_running_stats=True)\n",
            "      )\n",
            "    )\n",
            "    (1): BasicBlock(\n",
            "      (conv1): Conv2d(512, 512, kernel_size=(3, 3), stride=(1, 1), padding=(1, 1), bias=False)\n",
            "      (bn1): BatchNorm2d(512, eps=1e-05, momentum=0.1, affine=True, track_running_stats=True)\n",
            "      (relu): ReLU(inplace=True)\n",
            "      (conv2): Conv2d(512, 512, kernel_size=(3, 3), stride=(1, 1), padding=(1, 1), bias=False)\n",
            "      (bn2): BatchNorm2d(512, eps=1e-05, momentum=0.1, affine=True, track_running_stats=True)\n",
            "    )\n",
            "  )\n",
            "  (avgpool): AdaptiveAvgPool2d(output_size=(1, 1))\n",
            "  (fc): Linear(in_features=512, out_features=1000, bias=True)\n",
            ")>\n"
          ],
          "name": "stdout"
        }
      ]
    },
    {
      "cell_type": "code",
      "metadata": {
        "id": "qh0hLrq9n-TT",
        "colab_type": "code",
        "colab": {
          "base_uri": "https://localhost:8080/",
          "height": 1000
        },
        "outputId": "1713a793-0671-482d-c2f2-81915bbae466"
      },
      "source": [
        "# Set input channel of model.conv1 as 1 (grayscale) and out_features of model.fc as 19\n",
        "num_classes = 19\n",
        "model.conv1 = nn.Conv2d(1, 64, kernel_size=(7, 7), stride=(2, 2), padding=(3, 3), bias=False)  \n",
        "model.fc = nn.Linear(512, num_classes)\n",
        "model.cuda()"
      ],
      "execution_count": 8,
      "outputs": [
        {
          "output_type": "execute_result",
          "data": {
            "text/plain": [
              "ResNet(\n",
              "  (conv1): Conv2d(1, 64, kernel_size=(7, 7), stride=(2, 2), padding=(3, 3), bias=False)\n",
              "  (bn1): BatchNorm2d(64, eps=1e-05, momentum=0.1, affine=True, track_running_stats=True)\n",
              "  (relu): ReLU(inplace=True)\n",
              "  (maxpool): MaxPool2d(kernel_size=3, stride=2, padding=1, dilation=1, ceil_mode=False)\n",
              "  (layer1): Sequential(\n",
              "    (0): BasicBlock(\n",
              "      (conv1): Conv2d(64, 64, kernel_size=(3, 3), stride=(1, 1), padding=(1, 1), bias=False)\n",
              "      (bn1): BatchNorm2d(64, eps=1e-05, momentum=0.1, affine=True, track_running_stats=True)\n",
              "      (relu): ReLU(inplace=True)\n",
              "      (conv2): Conv2d(64, 64, kernel_size=(3, 3), stride=(1, 1), padding=(1, 1), bias=False)\n",
              "      (bn2): BatchNorm2d(64, eps=1e-05, momentum=0.1, affine=True, track_running_stats=True)\n",
              "    )\n",
              "    (1): BasicBlock(\n",
              "      (conv1): Conv2d(64, 64, kernel_size=(3, 3), stride=(1, 1), padding=(1, 1), bias=False)\n",
              "      (bn1): BatchNorm2d(64, eps=1e-05, momentum=0.1, affine=True, track_running_stats=True)\n",
              "      (relu): ReLU(inplace=True)\n",
              "      (conv2): Conv2d(64, 64, kernel_size=(3, 3), stride=(1, 1), padding=(1, 1), bias=False)\n",
              "      (bn2): BatchNorm2d(64, eps=1e-05, momentum=0.1, affine=True, track_running_stats=True)\n",
              "    )\n",
              "  )\n",
              "  (layer2): Sequential(\n",
              "    (0): BasicBlock(\n",
              "      (conv1): Conv2d(64, 128, kernel_size=(3, 3), stride=(2, 2), padding=(1, 1), bias=False)\n",
              "      (bn1): BatchNorm2d(128, eps=1e-05, momentum=0.1, affine=True, track_running_stats=True)\n",
              "      (relu): ReLU(inplace=True)\n",
              "      (conv2): Conv2d(128, 128, kernel_size=(3, 3), stride=(1, 1), padding=(1, 1), bias=False)\n",
              "      (bn2): BatchNorm2d(128, eps=1e-05, momentum=0.1, affine=True, track_running_stats=True)\n",
              "      (downsample): Sequential(\n",
              "        (0): Conv2d(64, 128, kernel_size=(1, 1), stride=(2, 2), bias=False)\n",
              "        (1): BatchNorm2d(128, eps=1e-05, momentum=0.1, affine=True, track_running_stats=True)\n",
              "      )\n",
              "    )\n",
              "    (1): BasicBlock(\n",
              "      (conv1): Conv2d(128, 128, kernel_size=(3, 3), stride=(1, 1), padding=(1, 1), bias=False)\n",
              "      (bn1): BatchNorm2d(128, eps=1e-05, momentum=0.1, affine=True, track_running_stats=True)\n",
              "      (relu): ReLU(inplace=True)\n",
              "      (conv2): Conv2d(128, 128, kernel_size=(3, 3), stride=(1, 1), padding=(1, 1), bias=False)\n",
              "      (bn2): BatchNorm2d(128, eps=1e-05, momentum=0.1, affine=True, track_running_stats=True)\n",
              "    )\n",
              "  )\n",
              "  (layer3): Sequential(\n",
              "    (0): BasicBlock(\n",
              "      (conv1): Conv2d(128, 256, kernel_size=(3, 3), stride=(2, 2), padding=(1, 1), bias=False)\n",
              "      (bn1): BatchNorm2d(256, eps=1e-05, momentum=0.1, affine=True, track_running_stats=True)\n",
              "      (relu): ReLU(inplace=True)\n",
              "      (conv2): Conv2d(256, 256, kernel_size=(3, 3), stride=(1, 1), padding=(1, 1), bias=False)\n",
              "      (bn2): BatchNorm2d(256, eps=1e-05, momentum=0.1, affine=True, track_running_stats=True)\n",
              "      (downsample): Sequential(\n",
              "        (0): Conv2d(128, 256, kernel_size=(1, 1), stride=(2, 2), bias=False)\n",
              "        (1): BatchNorm2d(256, eps=1e-05, momentum=0.1, affine=True, track_running_stats=True)\n",
              "      )\n",
              "    )\n",
              "    (1): BasicBlock(\n",
              "      (conv1): Conv2d(256, 256, kernel_size=(3, 3), stride=(1, 1), padding=(1, 1), bias=False)\n",
              "      (bn1): BatchNorm2d(256, eps=1e-05, momentum=0.1, affine=True, track_running_stats=True)\n",
              "      (relu): ReLU(inplace=True)\n",
              "      (conv2): Conv2d(256, 256, kernel_size=(3, 3), stride=(1, 1), padding=(1, 1), bias=False)\n",
              "      (bn2): BatchNorm2d(256, eps=1e-05, momentum=0.1, affine=True, track_running_stats=True)\n",
              "    )\n",
              "  )\n",
              "  (layer4): Sequential(\n",
              "    (0): BasicBlock(\n",
              "      (conv1): Conv2d(256, 512, kernel_size=(3, 3), stride=(2, 2), padding=(1, 1), bias=False)\n",
              "      (bn1): BatchNorm2d(512, eps=1e-05, momentum=0.1, affine=True, track_running_stats=True)\n",
              "      (relu): ReLU(inplace=True)\n",
              "      (conv2): Conv2d(512, 512, kernel_size=(3, 3), stride=(1, 1), padding=(1, 1), bias=False)\n",
              "      (bn2): BatchNorm2d(512, eps=1e-05, momentum=0.1, affine=True, track_running_stats=True)\n",
              "      (downsample): Sequential(\n",
              "        (0): Conv2d(256, 512, kernel_size=(1, 1), stride=(2, 2), bias=False)\n",
              "        (1): BatchNorm2d(512, eps=1e-05, momentum=0.1, affine=True, track_running_stats=True)\n",
              "      )\n",
              "    )\n",
              "    (1): BasicBlock(\n",
              "      (conv1): Conv2d(512, 512, kernel_size=(3, 3), stride=(1, 1), padding=(1, 1), bias=False)\n",
              "      (bn1): BatchNorm2d(512, eps=1e-05, momentum=0.1, affine=True, track_running_stats=True)\n",
              "      (relu): ReLU(inplace=True)\n",
              "      (conv2): Conv2d(512, 512, kernel_size=(3, 3), stride=(1, 1), padding=(1, 1), bias=False)\n",
              "      (bn2): BatchNorm2d(512, eps=1e-05, momentum=0.1, affine=True, track_running_stats=True)\n",
              "    )\n",
              "  )\n",
              "  (avgpool): AdaptiveAvgPool2d(output_size=(1, 1))\n",
              "  (fc): Linear(in_features=512, out_features=19, bias=True)\n",
              ")"
            ]
          },
          "metadata": {
            "tags": []
          },
          "execution_count": 8
        }
      ]
    },
    {
      "cell_type": "code",
      "metadata": {
        "id": "ENJGzIGfqfnd",
        "colab_type": "code",
        "colab": {}
      },
      "source": [
        "# Set hyperparameters\n",
        "num_epochs, batch_size, learning_rate = 20, 64, 0.001"
      ],
      "execution_count": 12,
      "outputs": []
    },
    {
      "cell_type": "code",
      "metadata": {
        "id": "cmOqSv-7xJCv",
        "colab_type": "code",
        "colab": {}
      },
      "source": [
        "# Transform\n",
        "transform = transforms.Compose([transforms.Grayscale(num_output_channels=1), transforms.Resize((224, 224)), transforms.ToTensor()])  # (h, w)\n",
        "\n",
        "train_dataset = ImageFolder(root='gdrive/My Drive/Colab Notebooks/term_project/dataset/train', transform=transform)\n",
        "test_dataset = ImageFolder(root='gdrive/My Drive/Colab Notebooks/term_project/dataset/test', transform=transform)\n",
        "\n",
        "# Dataloader\n",
        "train_loader = DataLoader(dataset=train_dataset, shuffle=True, batch_size=batch_size)\n",
        "test_loader = DataLoader(dataset=test_dataset, shuffle=False, batch_size=batch_size)"
      ],
      "execution_count": 13,
      "outputs": []
    },
    {
      "cell_type": "code",
      "metadata": {
        "id": "kJMpruebBe1A",
        "colab_type": "code",
        "colab": {}
      },
      "source": [
        "criterion = nn.CrossEntropyLoss()  #\n",
        "optimizer = torch.optim.Adam(model.parameters(), lr=learning_rate)"
      ],
      "execution_count": 15,
      "outputs": []
    },
    {
      "cell_type": "markdown",
      "metadata": {
        "id": "pl-6s0pupsEc",
        "colab_type": "text"
      },
      "source": [
        "## 3. Train the Model\n",
        "  * Training accuracy: 100%"
      ]
    },
    {
      "cell_type": "code",
      "metadata": {
        "id": "7fhToyIuCPbv",
        "colab_type": "code",
        "colab": {
          "base_uri": "https://localhost:8080/",
          "height": 697
        },
        "outputId": "a2e255fb-9343-41dc-eee5-a0acdd0e8f5c"
      },
      "source": [
        "for epoch in range(num_epochs):\n",
        "  for i, (images, labels) in enumerate(train_loader):\n",
        "    images = images.cuda()\n",
        "    labels = labels.cuda()\n",
        "    outputs = model(images)\n",
        "    loss = criterion(outputs, labels)\n",
        "    optimizer.zero_grad()\n",
        "    loss.backward()\n",
        "    optimizer.step()\n",
        "    _, predicted = torch.max(outputs.data, 1)\n",
        "    correct = (predicted == labels).sum().item()\n",
        "    if (i + 1) % 25 == 0:\n",
        "      print('Epoch: {}/{}, Batch Step: {}/{}, Loss: {:.4f}, Training Accuracy of the Current Batch: {}%'\n",
        "      .format(epoch + 1, num_epochs, i+1, train_loader.__len__(), loss.item(), 100*correct / batch_size))"
      ],
      "execution_count": 16,
      "outputs": [
        {
          "output_type": "stream",
          "text": [
            "Epoch: 1/20, Batch Step: 25/51, Loss: 0.4465, Training Accuracy of the Current Batch: 87.5%\n",
            "Epoch: 1/20, Batch Step: 50/51, Loss: 0.3070, Training Accuracy of the Current Batch: 92.1875%\n",
            "Epoch: 2/20, Batch Step: 25/51, Loss: 0.2474, Training Accuracy of the Current Batch: 90.625%\n",
            "Epoch: 2/20, Batch Step: 50/51, Loss: 0.2426, Training Accuracy of the Current Batch: 92.1875%\n",
            "Epoch: 3/20, Batch Step: 25/51, Loss: 0.2386, Training Accuracy of the Current Batch: 92.1875%\n",
            "Epoch: 3/20, Batch Step: 50/51, Loss: 0.1332, Training Accuracy of the Current Batch: 96.875%\n",
            "Epoch: 4/20, Batch Step: 25/51, Loss: 0.1509, Training Accuracy of the Current Batch: 93.75%\n",
            "Epoch: 4/20, Batch Step: 50/51, Loss: 0.0832, Training Accuracy of the Current Batch: 96.875%\n",
            "Epoch: 5/20, Batch Step: 25/51, Loss: 0.0272, Training Accuracy of the Current Batch: 100.0%\n",
            "Epoch: 5/20, Batch Step: 50/51, Loss: 0.1041, Training Accuracy of the Current Batch: 96.875%\n",
            "Epoch: 6/20, Batch Step: 25/51, Loss: 0.0703, Training Accuracy of the Current Batch: 98.4375%\n",
            "Epoch: 6/20, Batch Step: 50/51, Loss: 0.0393, Training Accuracy of the Current Batch: 98.4375%\n",
            "Epoch: 7/20, Batch Step: 25/51, Loss: 0.0460, Training Accuracy of the Current Batch: 98.4375%\n",
            "Epoch: 7/20, Batch Step: 50/51, Loss: 0.0705, Training Accuracy of the Current Batch: 98.4375%\n",
            "Epoch: 8/20, Batch Step: 25/51, Loss: 0.0535, Training Accuracy of the Current Batch: 98.4375%\n",
            "Epoch: 8/20, Batch Step: 50/51, Loss: 0.1143, Training Accuracy of the Current Batch: 96.875%\n",
            "Epoch: 9/20, Batch Step: 25/51, Loss: 0.0966, Training Accuracy of the Current Batch: 95.3125%\n",
            "Epoch: 9/20, Batch Step: 50/51, Loss: 0.0502, Training Accuracy of the Current Batch: 98.4375%\n",
            "Epoch: 10/20, Batch Step: 25/51, Loss: 0.0645, Training Accuracy of the Current Batch: 98.4375%\n",
            "Epoch: 10/20, Batch Step: 50/51, Loss: 0.0566, Training Accuracy of the Current Batch: 96.875%\n",
            "Epoch: 11/20, Batch Step: 25/51, Loss: 0.0962, Training Accuracy of the Current Batch: 98.4375%\n",
            "Epoch: 11/20, Batch Step: 50/51, Loss: 0.1556, Training Accuracy of the Current Batch: 96.875%\n",
            "Epoch: 12/20, Batch Step: 25/51, Loss: 0.0585, Training Accuracy of the Current Batch: 100.0%\n",
            "Epoch: 12/20, Batch Step: 50/51, Loss: 0.0483, Training Accuracy of the Current Batch: 98.4375%\n",
            "Epoch: 13/20, Batch Step: 25/51, Loss: 0.0624, Training Accuracy of the Current Batch: 96.875%\n",
            "Epoch: 13/20, Batch Step: 50/51, Loss: 0.0265, Training Accuracy of the Current Batch: 98.4375%\n",
            "Epoch: 14/20, Batch Step: 25/51, Loss: 0.0857, Training Accuracy of the Current Batch: 96.875%\n",
            "Epoch: 14/20, Batch Step: 50/51, Loss: 0.0825, Training Accuracy of the Current Batch: 95.3125%\n",
            "Epoch: 15/20, Batch Step: 25/51, Loss: 0.0776, Training Accuracy of the Current Batch: 96.875%\n",
            "Epoch: 15/20, Batch Step: 50/51, Loss: 0.0533, Training Accuracy of the Current Batch: 96.875%\n",
            "Epoch: 16/20, Batch Step: 25/51, Loss: 0.0078, Training Accuracy of the Current Batch: 100.0%\n",
            "Epoch: 16/20, Batch Step: 50/51, Loss: 0.0193, Training Accuracy of the Current Batch: 100.0%\n",
            "Epoch: 17/20, Batch Step: 25/51, Loss: 0.0542, Training Accuracy of the Current Batch: 98.4375%\n",
            "Epoch: 17/20, Batch Step: 50/51, Loss: 0.0922, Training Accuracy of the Current Batch: 93.75%\n",
            "Epoch: 18/20, Batch Step: 25/51, Loss: 0.0328, Training Accuracy of the Current Batch: 100.0%\n",
            "Epoch: 18/20, Batch Step: 50/51, Loss: 0.0108, Training Accuracy of the Current Batch: 100.0%\n",
            "Epoch: 19/20, Batch Step: 25/51, Loss: 0.0209, Training Accuracy of the Current Batch: 100.0%\n",
            "Epoch: 19/20, Batch Step: 50/51, Loss: 0.0013, Training Accuracy of the Current Batch: 100.0%\n",
            "Epoch: 20/20, Batch Step: 25/51, Loss: 0.0053, Training Accuracy of the Current Batch: 100.0%\n",
            "Epoch: 20/20, Batch Step: 50/51, Loss: 0.0073, Training Accuracy of the Current Batch: 100.0%\n"
          ],
          "name": "stdout"
        }
      ]
    },
    {
      "cell_type": "markdown",
      "metadata": {
        "id": "0DaYKc4opVET",
        "colab_type": "text"
      },
      "source": [
        "## 4. Save the Trained Parameters "
      ]
    },
    {
      "cell_type": "code",
      "metadata": {
        "id": "rEYcSwVDW_LE",
        "colab_type": "code",
        "colab": {}
      },
      "source": [
        "torch.save(model.state_dict(), 'gdrive/My Drive/Colab Notebooks/term_project/captcha_resnet18_channel_1.pt')"
      ],
      "execution_count": 22,
      "outputs": []
    },
    {
      "cell_type": "code",
      "metadata": {
        "id": "QFVxo-QUXElf",
        "colab_type": "code",
        "colab": {
          "base_uri": "https://localhost:8080/",
          "height": 119
        },
        "outputId": "e0266b41-ccd7-429a-b2b5-da157832d5ed"
      },
      "source": [
        "%ls -al gdrive/My\\ Drive/Colab\\ Notebooks/term_project/"
      ],
      "execution_count": 23,
      "outputs": [
        {
          "output_type": "stream",
          "text": [
            "total 88124\n",
            "-rw------- 1 root root 44779020 Jun 20 09:25 captcha_resnet18_channel_1.pt\n",
            "-rw------- 1 root root 44804320 Jun 19 16:14 captcha_resnet18.pt\n",
            "drwx------ 4 root root     4096 Jun 14 13:39 \u001b[0m\u001b[01;34mdataset\u001b[0m/\n",
            "-rw------- 1 root root   227898 Jun 19 13:26 image_preprocess.ipynb\n",
            "-rw------- 1 root root   421924 Jun 15 07:58 image_preprocess_tutorial.ipynb\n"
          ],
          "name": "stdout"
        }
      ]
    },
    {
      "cell_type": "markdown",
      "metadata": {
        "id": "cbeh4Ne4xXOZ",
        "colab_type": "text"
      },
      "source": [
        "## 5. Test the Trained Model\n",
        "* Load saved parameters and evaluate the model with the test dataset\n",
        "  * Test accuracy: 85.88%\n",
        "  * See the confusion matrix plotted below.\n",
        "* Show predicted labels of each CAPTCHA image of the test dataset"
      ]
    },
    {
      "cell_type": "code",
      "metadata": {
        "id": "2uCGz0SdvB9n",
        "colab_type": "code",
        "colab": {}
      },
      "source": [
        "from PIL import Image"
      ],
      "execution_count": 14,
      "outputs": []
    },
    {
      "cell_type": "code",
      "metadata": {
        "id": "4ppO-2wxPLon",
        "colab_type": "code",
        "colab": {
          "base_uri": "https://localhost:8080/",
          "height": 1000
        },
        "outputId": "0c0b67f7-ef58-4bbb-fdcc-c2a2ba317952"
      },
      "source": [
        "num_classes = 19\n",
        "model_saved = models.resnet18(pretrained=False)\n",
        "model_saved.conv1 = nn.Conv2d(1, 64, kernel_size=(7, 7), stride=(2, 2), padding=(3, 3), bias=False)\n",
        "model_saved.fc = nn.Linear(512, num_classes)\n",
        "model_saved.load_state_dict(torch.load(\"gdrive/My Drive/Colab Notebooks/term_project/captcha_resnet18_channel_1.pt\"))\n",
        "model_saved.cuda()"
      ],
      "execution_count": 15,
      "outputs": [
        {
          "output_type": "execute_result",
          "data": {
            "text/plain": [
              "ResNet(\n",
              "  (conv1): Conv2d(1, 64, kernel_size=(7, 7), stride=(2, 2), padding=(3, 3), bias=False)\n",
              "  (bn1): BatchNorm2d(64, eps=1e-05, momentum=0.1, affine=True, track_running_stats=True)\n",
              "  (relu): ReLU(inplace=True)\n",
              "  (maxpool): MaxPool2d(kernel_size=3, stride=2, padding=1, dilation=1, ceil_mode=False)\n",
              "  (layer1): Sequential(\n",
              "    (0): BasicBlock(\n",
              "      (conv1): Conv2d(64, 64, kernel_size=(3, 3), stride=(1, 1), padding=(1, 1), bias=False)\n",
              "      (bn1): BatchNorm2d(64, eps=1e-05, momentum=0.1, affine=True, track_running_stats=True)\n",
              "      (relu): ReLU(inplace=True)\n",
              "      (conv2): Conv2d(64, 64, kernel_size=(3, 3), stride=(1, 1), padding=(1, 1), bias=False)\n",
              "      (bn2): BatchNorm2d(64, eps=1e-05, momentum=0.1, affine=True, track_running_stats=True)\n",
              "    )\n",
              "    (1): BasicBlock(\n",
              "      (conv1): Conv2d(64, 64, kernel_size=(3, 3), stride=(1, 1), padding=(1, 1), bias=False)\n",
              "      (bn1): BatchNorm2d(64, eps=1e-05, momentum=0.1, affine=True, track_running_stats=True)\n",
              "      (relu): ReLU(inplace=True)\n",
              "      (conv2): Conv2d(64, 64, kernel_size=(3, 3), stride=(1, 1), padding=(1, 1), bias=False)\n",
              "      (bn2): BatchNorm2d(64, eps=1e-05, momentum=0.1, affine=True, track_running_stats=True)\n",
              "    )\n",
              "  )\n",
              "  (layer2): Sequential(\n",
              "    (0): BasicBlock(\n",
              "      (conv1): Conv2d(64, 128, kernel_size=(3, 3), stride=(2, 2), padding=(1, 1), bias=False)\n",
              "      (bn1): BatchNorm2d(128, eps=1e-05, momentum=0.1, affine=True, track_running_stats=True)\n",
              "      (relu): ReLU(inplace=True)\n",
              "      (conv2): Conv2d(128, 128, kernel_size=(3, 3), stride=(1, 1), padding=(1, 1), bias=False)\n",
              "      (bn2): BatchNorm2d(128, eps=1e-05, momentum=0.1, affine=True, track_running_stats=True)\n",
              "      (downsample): Sequential(\n",
              "        (0): Conv2d(64, 128, kernel_size=(1, 1), stride=(2, 2), bias=False)\n",
              "        (1): BatchNorm2d(128, eps=1e-05, momentum=0.1, affine=True, track_running_stats=True)\n",
              "      )\n",
              "    )\n",
              "    (1): BasicBlock(\n",
              "      (conv1): Conv2d(128, 128, kernel_size=(3, 3), stride=(1, 1), padding=(1, 1), bias=False)\n",
              "      (bn1): BatchNorm2d(128, eps=1e-05, momentum=0.1, affine=True, track_running_stats=True)\n",
              "      (relu): ReLU(inplace=True)\n",
              "      (conv2): Conv2d(128, 128, kernel_size=(3, 3), stride=(1, 1), padding=(1, 1), bias=False)\n",
              "      (bn2): BatchNorm2d(128, eps=1e-05, momentum=0.1, affine=True, track_running_stats=True)\n",
              "    )\n",
              "  )\n",
              "  (layer3): Sequential(\n",
              "    (0): BasicBlock(\n",
              "      (conv1): Conv2d(128, 256, kernel_size=(3, 3), stride=(2, 2), padding=(1, 1), bias=False)\n",
              "      (bn1): BatchNorm2d(256, eps=1e-05, momentum=0.1, affine=True, track_running_stats=True)\n",
              "      (relu): ReLU(inplace=True)\n",
              "      (conv2): Conv2d(256, 256, kernel_size=(3, 3), stride=(1, 1), padding=(1, 1), bias=False)\n",
              "      (bn2): BatchNorm2d(256, eps=1e-05, momentum=0.1, affine=True, track_running_stats=True)\n",
              "      (downsample): Sequential(\n",
              "        (0): Conv2d(128, 256, kernel_size=(1, 1), stride=(2, 2), bias=False)\n",
              "        (1): BatchNorm2d(256, eps=1e-05, momentum=0.1, affine=True, track_running_stats=True)\n",
              "      )\n",
              "    )\n",
              "    (1): BasicBlock(\n",
              "      (conv1): Conv2d(256, 256, kernel_size=(3, 3), stride=(1, 1), padding=(1, 1), bias=False)\n",
              "      (bn1): BatchNorm2d(256, eps=1e-05, momentum=0.1, affine=True, track_running_stats=True)\n",
              "      (relu): ReLU(inplace=True)\n",
              "      (conv2): Conv2d(256, 256, kernel_size=(3, 3), stride=(1, 1), padding=(1, 1), bias=False)\n",
              "      (bn2): BatchNorm2d(256, eps=1e-05, momentum=0.1, affine=True, track_running_stats=True)\n",
              "    )\n",
              "  )\n",
              "  (layer4): Sequential(\n",
              "    (0): BasicBlock(\n",
              "      (conv1): Conv2d(256, 512, kernel_size=(3, 3), stride=(2, 2), padding=(1, 1), bias=False)\n",
              "      (bn1): BatchNorm2d(512, eps=1e-05, momentum=0.1, affine=True, track_running_stats=True)\n",
              "      (relu): ReLU(inplace=True)\n",
              "      (conv2): Conv2d(512, 512, kernel_size=(3, 3), stride=(1, 1), padding=(1, 1), bias=False)\n",
              "      (bn2): BatchNorm2d(512, eps=1e-05, momentum=0.1, affine=True, track_running_stats=True)\n",
              "      (downsample): Sequential(\n",
              "        (0): Conv2d(256, 512, kernel_size=(1, 1), stride=(2, 2), bias=False)\n",
              "        (1): BatchNorm2d(512, eps=1e-05, momentum=0.1, affine=True, track_running_stats=True)\n",
              "      )\n",
              "    )\n",
              "    (1): BasicBlock(\n",
              "      (conv1): Conv2d(512, 512, kernel_size=(3, 3), stride=(1, 1), padding=(1, 1), bias=False)\n",
              "      (bn1): BatchNorm2d(512, eps=1e-05, momentum=0.1, affine=True, track_running_stats=True)\n",
              "      (relu): ReLU(inplace=True)\n",
              "      (conv2): Conv2d(512, 512, kernel_size=(3, 3), stride=(1, 1), padding=(1, 1), bias=False)\n",
              "      (bn2): BatchNorm2d(512, eps=1e-05, momentum=0.1, affine=True, track_running_stats=True)\n",
              "    )\n",
              "  )\n",
              "  (avgpool): AdaptiveAvgPool2d(output_size=(1, 1))\n",
              "  (fc): Linear(in_features=512, out_features=19, bias=True)\n",
              ")"
            ]
          },
          "metadata": {
            "tags": []
          },
          "execution_count": 15
        }
      ]
    },
    {
      "cell_type": "code",
      "metadata": {
        "id": "cxoyZLEoG7OU",
        "colab_type": "code",
        "colab": {
          "base_uri": "https://localhost:8080/",
          "height": 34
        },
        "outputId": "29a308e8-5ace-4aeb-e9c7-d9beb7a5c336"
      },
      "source": [
        "model_saved.eval()\n",
        "with torch.no_grad():\n",
        "  total, correct = 0, 0\n",
        "  for images, labels in test_loader:\n",
        "    images = images.cuda()\n",
        "    labels = labels.cuda()\n",
        "    outputs = model_saved(images)\n",
        "    _, predicted = torch.max(outputs.data, 1)\n",
        "    total += labels.size(0)\n",
        "    correct += (predicted == labels).sum().item()\n",
        "  print(\"Test Accuracy of the Test Images: {:.2f}%\".format(100 * correct / total))"
      ],
      "execution_count": 16,
      "outputs": [
        {
          "output_type": "stream",
          "text": [
            "Test Accuracy of the Test Images: 85.88%\n"
          ],
          "name": "stdout"
        }
      ]
    },
    {
      "cell_type": "code",
      "metadata": {
        "id": "Af3lg6dUuAnu",
        "colab_type": "code",
        "colab": {}
      },
      "source": [
        "test_captcha_list = ['gfp54.png', 'nbfx5.png', 'mg5nn.png', 'n5wbg.png', 'gcx6f.png', 'neecd.png', 'g842c.png', 'm4fd8.png', 'pn7pn.png', 'gnf85.png', 'ndg2b.png', 'nfg23.png', 'm2nf4.png', 'g6n7x.png', 'gymmn.png', 'm448b.png', 'mm3nn.png', 'mfb3x.png', 'ndecc.png', 'n2c85.jpg', 'gcfgp.png', 'gewfy.png', 'mcyfx.png', 'pwmbn.png', 'm8m4x.png', 'geyn5.jpg', 'pp546.png', 'gxxpf.png', 'gnbde.png', 'm2576.png', 'pgmn2.png', 'pybee.png', 'gpnxn.png', 'n7ebx.png', 'p8ngx.png', 'pg4bf.png', 'p57fn.png', 'gn2xy.png', 'p5g5m.png', 'mfc35.png', 'n2gmg.png', 'p6mn8.png', 'gpxng.png', 'nxc83.png', 'nbcgb.png', 'gm7n8.png', 'pe4xn.png', 'mmy5n.png', 'm3588.png', 'gnbn4.png', 'pg2pm.png', 'ne325.png', 'ny3nn.png', 'mpmy5.png', 'mxnw4.png', 'pxdwp.png', 'mc8w2.png', 'mpxfb.png', 'mnef5.png', 'n3ffn.png', 'n3x4c.png', 'p8c24.png', 'g8gnd.png', 'p24gn.png', 'gny6b.png', 'm5ym2.png', 'n5x2n.png', 'gw468.png', 'ng6yp.png', 'n336e.png', 'ncw4g.png', 'ncyx8.png', 'mgw3n.png', 'm6n4x.png', 'pym7p.png', 'p4pde.png', 'g888x.png', 'neggn.png', 'pw5nc.png', 'n6xc5.png', 'g7fmc.png', 'gf2g4.png', 'n2by7.png', 'pcmcc.jpg', 'nxf2c.jpg', 'mggce.png', 'm8gmx.png', 'nbp3e.png', 'ndme7.png', 'n464c.png', 'nb267.png', 'gegw4.png', 'g78gn.png', 'gy5bf.png', 'pwebm.png', 'ng46m.png', 'n373n.png', 'nm248.png', 'n7meb.png', 'p2m6n.png', 'nbwpn.png', 'n8fp6.png', 'mgdwb.png', 'x74b2.png', 'yf28d.png', 'yemy4.png', 'xngxc.png', 'wc2bd.png', 'xfn6n.png', 'xfg65.png', 'xe6eb.png', 'y48c3.png', 'ypp8f.png', 'wd2gb.png', 'xnnc3.png', 'xbcbx.png', 'yge7c.jpg', 'y5w28.png', 'y7x8p.png', 'xxney.png', 'y4g3b.png', 'yew6p.png', 'yeyn4.png', 'ymp7g.png', 'w2e87.png', 'xgcxy.png', 'y2ye8.png', 'wbncw.png', 'y5n6d.png', 'yd38e.png', 'ygenn.png', 'xe8xm.png', 'ypw3d.png', 'w48cw.png', 'w6yne.png', 'xyncc.png', 'x5f54.png', 'wm746.png', 'ywn6f.png', 'wddcp.png', 'xnd3y.png', 'ycmcw.png', 'wfy5m.png', 'w52fn.png', 'w2yp7.png', 'yw7ny.png', 'x2cnn.png', 'w6pxy.png', 'y33nm.png', 'wxcn8.png', 'w2n7e.png', 'xnn4d.png', 'ydg8n.png', 'yd3m3.png', 'y5dpp.png', 'x3deb.png', 'yy824.png', 'x4pnp.png', 'y2xg4.png', 'xmcym.png', 'xxw44.png', 'xymfn.png', 'xxbm5.png', 'x775w.png', 'w75w8.png', 'x38fn.png', 'wf684.png', 'y4ec2.png', 'wye85.png', 'ycnfc.png', 'y866y.png', 'wnpec.png', 'y2436.png', 'yxd7m.png', 'x7422.png', 'wwmn6.png', 'x7547.png', 'yf347.png', 'x76mn.png', 'yyg5g.png', 'x44n4.png', 'w4nfx.png', 'wdww8.png', 'x347n.png', 'w4cnn.png', 'w8f36.png', 'xw465.png', 'x362g.png', 'wyc25.png', 'x277e.png', 'wecfd.png', 'xemyg.png', 'y32yy.png', 'w8bnx.png', 'w6ny4.jpg', 'xdn65.png', 'wb3ed.png', 'xbem6.png', 'x8e8n.png', 'w4cdc.png', 'xcmbp.png', 'x7746.png', 'xcf88.png', 'xdcn4.png', 'xf5g7.png', 'xnfx5.png', 'y53c2.png', 'x37bf.png', 'x6pdb.png', 'yd755.png', 'yyn57.png', 'xp24p.png', 'yf424.png', 'yx2d4.png', 'yfdn7.png', 'wgnwp.png', 'xce8d.png', 'x8xnp.png', 'x4f7g.png', 'ygfwe.png', 'wmpmp.png', 'x3fwf.png', 'y3c58.png', 'yw8y5.jpg', 'wce5n.png', 'xyyyw.png', 'yg5bb.png', 'ydd3g.png', 'yw667.png', 'y5g87.png', 'ybfx6.png', 'w4x2m.png', 'y7mnm.png', 'y7d75.png', 'xc68n.png', 'y4n6m.png', 'x458w.png', 'x5nyn.png', 'wm47f.png', 'ygce8.jpg', 'x4gg5.png', 'x6b5m.png', 'wg625.png', 'w7e6m.png', 'wnmyn.png', 'xwx7d.png', 'xf4p4.png', 'wxy4n.png', 'xfgxb.png', 'w46ep.png', '23n88.png', '2g783.png', '253dc.png', '2cg58.png', '2356g.png', '25w53.png', '28348.png', '22d5n.png', '23mdg.png', '28x47.png', '25egp.png', '25p2m.png', '2cgyx.png', '2cegf.png', '2n73f.png', '2enf4.png', '268g2.png', '244e2.png', '245y5.png', '24pew.png', '264m5.png', '2fxgd.png', '25257.png', '226md.png', '2gyb6.png', '25m6p.png', '2g7nm.png', '2bg48.png', '2mpnn.png', '24f6w.png', '2en7g.png', '243mm.png', '2mg87.png', '2b827.png', '33p4e.png', '377xx.png', '3dgmf.png', '2p2y8.png', '3p4nn.png', '3mxdn.png', '32dnn.png', '33f7m.png', '3cpwb.png', '2wc38.png', '44c22.png', '34b84.png', '42dw4.png', '33n73.png', '2yggg.png', '43xfe.png', '3ye2e.png', '3n3cf.png', '43p5d.png', '37ep6.png', '3d7bd.png', '3x5fm.png', '3pe4g.png', '387g2.png', '2ycn8.png', '2nf26.png', '3b4we.png', '36w25.png', '33b22.png', '445cc.png', '34fxm.png', '2xc2n.png', '34pcn.png', '378e5.png', '38n57.png', '2nx38.png', '3bnyf.png']\n",
        "# index of each char -> class number\n",
        "charset = ['2', '3', '4', '5', '6', '7', '8', 'b', 'c', 'd', 'e', 'f', 'g', 'm', 'n', 'p', 'w', 'x', 'y']"
      ],
      "execution_count": 17,
      "outputs": []
    },
    {
      "cell_type": "code",
      "metadata": {
        "id": "NWEQX9uTvx-y",
        "colab_type": "code",
        "colab": {
          "base_uri": "https://localhost:8080/",
          "height": 1000
        },
        "outputId": "76dd09ac-4857-4864-bb90-dd261d86e6e8"
      },
      "source": [
        "model_saved.eval()\n",
        "with torch.no_grad():\n",
        "  for captcha in test_captcha_list:\n",
        "    answer = captcha[:5]\n",
        "    predicted = ''\n",
        "    correct = 0\n",
        "    acc = 0\n",
        "    for c in answer:\n",
        "      c_img_path = os.path.join('gdrive/My Drive/Colab Notebooks/term_project/dataset/test', c, answer+'_'+c+captcha[-4:])\n",
        "      #print(\"Load\", c_img_path)\n",
        "      c_img = Image.open(c_img_path).convert('L')\n",
        "      c_img = transform(c_img)\n",
        "      c_img = c_img.unsqueeze(0)\n",
        "      c_img = c_img.cuda()\n",
        "      label = charset.index(c)\n",
        "\n",
        "      output = model_saved(c_img)\n",
        "      _, index = torch.max(output, 1)\n",
        "\n",
        "      correct += (index == label).sum().item()\n",
        "      \n",
        "      predicted += charset[index[0]]\n",
        "      acc = 100 * correct / 5\n",
        "    \n",
        "    print(\"answer: {}, predicted: {}, percentage of chars correct: {}%\".format(answer, predicted, acc))"
      ],
      "execution_count": 19,
      "outputs": [
        {
          "output_type": "stream",
          "text": [
            "answer: gfp54, predicted: gfp54, percentage of chars correct: 100.0%\n",
            "answer: nbfx5, predicted: mbfx5, percentage of chars correct: 80.0%\n",
            "answer: mg5nn, predicted: mg5nn, percentage of chars correct: 100.0%\n",
            "answer: n5wbg, predicted: n5wbg, percentage of chars correct: 100.0%\n",
            "answer: gcx6f, predicted: gcx6f, percentage of chars correct: 100.0%\n",
            "answer: neecd, predicted: neecd, percentage of chars correct: 100.0%\n",
            "answer: g842c, predicted: g842c, percentage of chars correct: 100.0%\n",
            "answer: m4fd8, predicted: m4fd8, percentage of chars correct: 100.0%\n",
            "answer: pn7pn, predicted: pn7pn, percentage of chars correct: 100.0%\n",
            "answer: gnf85, predicted: gnf85, percentage of chars correct: 100.0%\n",
            "answer: ndg2b, predicted: mdg2b, percentage of chars correct: 80.0%\n",
            "answer: nfg23, predicted: nfg23, percentage of chars correct: 100.0%\n",
            "answer: m2nf4, predicted: m22nf, percentage of chars correct: 40.0%\n",
            "answer: g6n7x, predicted: g6n7x, percentage of chars correct: 100.0%\n",
            "answer: gymmn, predicted: gymmm, percentage of chars correct: 80.0%\n",
            "answer: m448b, predicted: m448b, percentage of chars correct: 100.0%\n",
            "answer: mm3nn, predicted: mm3nn, percentage of chars correct: 100.0%\n",
            "answer: mfb3x, predicted: mmb3x, percentage of chars correct: 80.0%\n",
            "answer: ndecc, predicted: ndecc, percentage of chars correct: 100.0%\n",
            "answer: n2c85, predicted: n2c85, percentage of chars correct: 100.0%\n",
            "answer: gcfgp, predicted: gcfgp, percentage of chars correct: 100.0%\n",
            "answer: gewfy, predicted: gewyf, percentage of chars correct: 60.0%\n",
            "answer: mcyfx, predicted: mcyfx, percentage of chars correct: 100.0%\n",
            "answer: pwmbn, predicted: pwnmb, percentage of chars correct: 40.0%\n",
            "answer: m8m4x, predicted: n8nn4, percentage of chars correct: 20.0%\n",
            "answer: geyn5, predicted: geyn5, percentage of chars correct: 100.0%\n",
            "answer: pp546, predicted: pp546, percentage of chars correct: 100.0%\n",
            "answer: gxxpf, predicted: gxxpf, percentage of chars correct: 100.0%\n",
            "answer: gnbde, predicted: gnbce, percentage of chars correct: 80.0%\n",
            "answer: m2576, predicted: mn557, percentage of chars correct: 40.0%\n",
            "answer: pgmn2, predicted: pgnnn, percentage of chars correct: 60.0%\n",
            "answer: pybee, predicted: pybee, percentage of chars correct: 100.0%\n",
            "answer: gpnxn, predicted: gpnxn, percentage of chars correct: 100.0%\n",
            "answer: n7ebx, predicted: n7ebx, percentage of chars correct: 100.0%\n",
            "answer: p8ngx, predicted: p8ngx, percentage of chars correct: 100.0%\n",
            "answer: pg4bf, predicted: pg4bf, percentage of chars correct: 100.0%\n",
            "answer: p57fn, predicted: p57fn, percentage of chars correct: 100.0%\n",
            "answer: gn2xy, predicted: pn2xy, percentage of chars correct: 80.0%\n",
            "answer: p5g5m, predicted: p5g5m, percentage of chars correct: 100.0%\n",
            "answer: mfc35, predicted: mnfc3, percentage of chars correct: 20.0%\n",
            "answer: n2gmg, predicted: n2gmg, percentage of chars correct: 100.0%\n",
            "answer: p6mn8, predicted: p6nmn, percentage of chars correct: 40.0%\n",
            "answer: gpxng, predicted: gpxng, percentage of chars correct: 100.0%\n",
            "answer: nxc83, predicted: nxc83, percentage of chars correct: 100.0%\n",
            "answer: nbcgb, predicted: nbcgb, percentage of chars correct: 100.0%\n",
            "answer: gm7n8, predicted: gm7n8, percentage of chars correct: 100.0%\n",
            "answer: pe4xn, predicted: pe4xn, percentage of chars correct: 100.0%\n",
            "answer: mmy5n, predicted: mmy5n, percentage of chars correct: 100.0%\n",
            "answer: m3588, predicted: n3588, percentage of chars correct: 80.0%\n",
            "answer: gnbn4, predicted: gnbn4, percentage of chars correct: 100.0%\n",
            "answer: pg2pm, predicted: pg2pn, percentage of chars correct: 80.0%\n",
            "answer: ne325, predicted: ne325, percentage of chars correct: 100.0%\n",
            "answer: ny3nn, predicted: ny3nn, percentage of chars correct: 100.0%\n",
            "answer: mpmy5, predicted: mpmy5, percentage of chars correct: 100.0%\n",
            "answer: mxnw4, predicted: mxnmw, percentage of chars correct: 60.0%\n",
            "answer: pxdwp, predicted: wxdww, percentage of chars correct: 60.0%\n",
            "answer: mc8w2, predicted: nnc8w, percentage of chars correct: 0.0%\n",
            "answer: mpxfb, predicted: mpxfb, percentage of chars correct: 100.0%\n",
            "answer: mnef5, predicted: mnef5, percentage of chars correct: 100.0%\n",
            "answer: n3ffn, predicted: n3ffn, percentage of chars correct: 100.0%\n",
            "answer: n3x4c, predicted: m3x4c, percentage of chars correct: 80.0%\n",
            "answer: p8c24, predicted: p8c24, percentage of chars correct: 100.0%\n",
            "answer: g8gnd, predicted: g8gnc, percentage of chars correct: 80.0%\n",
            "answer: p24gn, predicted: p24gm, percentage of chars correct: 80.0%\n",
            "answer: gny6b, predicted: gny6b, percentage of chars correct: 100.0%\n",
            "answer: m5ym2, predicted: n5ynn, percentage of chars correct: 40.0%\n",
            "answer: n5x2n, predicted: n5x2n, percentage of chars correct: 100.0%\n",
            "answer: gw468, predicted: gwy46, percentage of chars correct: 40.0%\n",
            "answer: ng6yp, predicted: mg6yp, percentage of chars correct: 80.0%\n",
            "answer: n336e, predicted: n336e, percentage of chars correct: 100.0%\n",
            "answer: ncw4g, predicted: ncw4g, percentage of chars correct: 100.0%\n",
            "answer: ncyx8, predicted: mcyx8, percentage of chars correct: 80.0%\n",
            "answer: mgw3n, predicted: mgw3n, percentage of chars correct: 100.0%\n",
            "answer: m6n4x, predicted: m6n4x, percentage of chars correct: 100.0%\n",
            "answer: pym7p, predicted: 7ynn7, percentage of chars correct: 20.0%\n",
            "answer: p4pde, predicted: p4pce, percentage of chars correct: 80.0%\n",
            "answer: g888x, predicted: g888x, percentage of chars correct: 100.0%\n",
            "answer: neggn, predicted: neggn, percentage of chars correct: 100.0%\n",
            "answer: pw5nc, predicted: pwy5n, percentage of chars correct: 40.0%\n",
            "answer: n6xc5, predicted: m6xc5, percentage of chars correct: 80.0%\n",
            "answer: g7fmc, predicted: g7fnm, percentage of chars correct: 60.0%\n",
            "answer: gf2g4, predicted: gf2g4, percentage of chars correct: 100.0%\n",
            "answer: n2by7, predicted: n2by7, percentage of chars correct: 100.0%\n",
            "answer: pcmcc, predicted: pcmcc, percentage of chars correct: 100.0%\n",
            "answer: nxf2c, predicted: nxf2c, percentage of chars correct: 100.0%\n",
            "answer: mggce, predicted: ngggc, percentage of chars correct: 40.0%\n",
            "answer: m8gmx, predicted: n8gnm, percentage of chars correct: 40.0%\n",
            "answer: nbp3e, predicted: nbp3e, percentage of chars correct: 100.0%\n",
            "answer: ndme7, predicted: ndme7, percentage of chars correct: 100.0%\n",
            "answer: n464c, predicted: m464c, percentage of chars correct: 80.0%\n",
            "answer: nb267, predicted: nb267, percentage of chars correct: 100.0%\n",
            "answer: gegw4, predicted: gegw4, percentage of chars correct: 100.0%\n",
            "answer: g78gn, predicted: g78gn, percentage of chars correct: 100.0%\n",
            "answer: gy5bf, predicted: gy5bf, percentage of chars correct: 100.0%\n",
            "answer: pwebm, predicted: pwebm, percentage of chars correct: 100.0%\n",
            "answer: ng46m, predicted: ng46m, percentage of chars correct: 100.0%\n",
            "answer: n373n, predicted: n373n, percentage of chars correct: 100.0%\n",
            "answer: nm248, predicted: nnc24, percentage of chars correct: 20.0%\n",
            "answer: n7meb, predicted: n7meb, percentage of chars correct: 100.0%\n",
            "answer: p2m6n, predicted: p2m6n, percentage of chars correct: 100.0%\n",
            "answer: nbwpn, predicted: nbwpn, percentage of chars correct: 100.0%\n",
            "answer: n8fp6, predicted: n8fp6, percentage of chars correct: 100.0%\n",
            "answer: mgdwb, predicted: mgdww, percentage of chars correct: 80.0%\n",
            "answer: x74b2, predicted: x74b2, percentage of chars correct: 100.0%\n",
            "answer: yf28d, predicted: yf28d, percentage of chars correct: 100.0%\n",
            "answer: yemy4, predicted: nenny, percentage of chars correct: 20.0%\n",
            "answer: xngxc, predicted: xngxc, percentage of chars correct: 100.0%\n",
            "answer: wc2bd, predicted: wc2bc, percentage of chars correct: 80.0%\n",
            "answer: xfn6n, predicted: efn6n, percentage of chars correct: 80.0%\n",
            "answer: xfg65, predicted: xfg65, percentage of chars correct: 100.0%\n",
            "answer: xe6eb, predicted: xe6eb, percentage of chars correct: 100.0%\n",
            "answer: y48c3, predicted: y48c3, percentage of chars correct: 100.0%\n",
            "answer: ypp8f, predicted: ypp83, percentage of chars correct: 80.0%\n",
            "answer: wd2gb, predicted: wd2gb, percentage of chars correct: 100.0%\n",
            "answer: xnnc3, predicted: 8nnc3, percentage of chars correct: 80.0%\n",
            "answer: xbcbx, predicted: xbcbx, percentage of chars correct: 100.0%\n",
            "answer: yge7c, predicted: yge7c, percentage of chars correct: 100.0%\n",
            "answer: y5w28, predicted: y5w28, percentage of chars correct: 100.0%\n",
            "answer: y7x8p, predicted: y7x8p, percentage of chars correct: 100.0%\n",
            "answer: xxney, predicted: xxney, percentage of chars correct: 100.0%\n",
            "answer: y4g3b, predicted: y4g3b, percentage of chars correct: 100.0%\n",
            "answer: yew6p, predicted: yewy6, percentage of chars correct: 60.0%\n",
            "answer: yeyn4, predicted: yeyn4, percentage of chars correct: 100.0%\n",
            "answer: ymp7g, predicted: ymp7g, percentage of chars correct: 100.0%\n",
            "answer: w2e87, predicted: w2e87, percentage of chars correct: 100.0%\n",
            "answer: xgcxy, predicted: xgcxy, percentage of chars correct: 100.0%\n",
            "answer: y2ye8, predicted: y2ye8, percentage of chars correct: 100.0%\n",
            "answer: wbncw, predicted: cbpmc, percentage of chars correct: 20.0%\n",
            "answer: y5n6d, predicted: y5n6d, percentage of chars correct: 100.0%\n",
            "answer: yd38e, predicted: yd38e, percentage of chars correct: 100.0%\n",
            "answer: ygenn, predicted: ygenn, percentage of chars correct: 100.0%\n",
            "answer: xe8xm, predicted: xe8xm, percentage of chars correct: 100.0%\n",
            "answer: ypw3d, predicted: ypw38, percentage of chars correct: 80.0%\n",
            "answer: w48cw, predicted: c448c, percentage of chars correct: 20.0%\n",
            "answer: w6yne, predicted: m6yme, percentage of chars correct: 60.0%\n",
            "answer: xyncc, predicted: xyncc, percentage of chars correct: 100.0%\n",
            "answer: x5f54, predicted: 65f54, percentage of chars correct: 80.0%\n",
            "answer: wm746, predicted: wmm74, percentage of chars correct: 40.0%\n",
            "answer: ywn6f, predicted: ywwm6, percentage of chars correct: 40.0%\n",
            "answer: wddcp, predicted: wdddc, percentage of chars correct: 60.0%\n",
            "answer: xnd3y, predicted: xnd3y, percentage of chars correct: 100.0%\n",
            "answer: ycmcw, predicted: ynnnc, percentage of chars correct: 20.0%\n",
            "answer: wfy5m, predicted: wfy5n, percentage of chars correct: 80.0%\n",
            "answer: w52fn, predicted: wx52n, percentage of chars correct: 40.0%\n",
            "answer: w2yp7, predicted: w7yyp, percentage of chars correct: 40.0%\n",
            "answer: yw7ny, predicted: yw7ny, percentage of chars correct: 100.0%\n",
            "answer: x2cnn, predicted: x2cnn, percentage of chars correct: 100.0%\n",
            "answer: w6pxy, predicted: ww6px, percentage of chars correct: 20.0%\n",
            "answer: y33nm, predicted: y33nn, percentage of chars correct: 80.0%\n",
            "answer: wxcn8, predicted: wxnn8, percentage of chars correct: 80.0%\n",
            "answer: w2n7e, predicted: w2n7e, percentage of chars correct: 100.0%\n",
            "answer: xnn4d, predicted: xmm4c, percentage of chars correct: 40.0%\n",
            "answer: ydg8n, predicted: ydg8n, percentage of chars correct: 100.0%\n",
            "answer: yd3m3, predicted: yd3m3, percentage of chars correct: 100.0%\n",
            "answer: y5dpp, predicted: y5dpp, percentage of chars correct: 100.0%\n",
            "answer: x3deb, predicted: x3deb, percentage of chars correct: 100.0%\n",
            "answer: yy824, predicted: yy824, percentage of chars correct: 100.0%\n",
            "answer: x4pnp, predicted: x4pnp, percentage of chars correct: 100.0%\n",
            "answer: y2xg4, predicted: y2xg4, percentage of chars correct: 100.0%\n",
            "answer: xmcym, predicted: xmcym, percentage of chars correct: 100.0%\n",
            "answer: xxw44, predicted: xxw44, percentage of chars correct: 100.0%\n",
            "answer: xymfn, predicted: xymfn, percentage of chars correct: 100.0%\n",
            "answer: xxbm5, predicted: xxbm5, percentage of chars correct: 100.0%\n",
            "answer: x775w, predicted: x775w, percentage of chars correct: 100.0%\n",
            "answer: w75w8, predicted: w75w8, percentage of chars correct: 100.0%\n",
            "answer: x38fn, predicted: x38fn, percentage of chars correct: 100.0%\n",
            "answer: wf684, predicted: wfm54, percentage of chars correct: 60.0%\n",
            "answer: y4ec2, predicted: y4ec2, percentage of chars correct: 100.0%\n",
            "answer: wye85, predicted: wye85, percentage of chars correct: 100.0%\n",
            "answer: ycnfc, predicted: ycnfc, percentage of chars correct: 100.0%\n",
            "answer: y866y, predicted: y866y, percentage of chars correct: 100.0%\n",
            "answer: wnpec, predicted: mnmne, percentage of chars correct: 20.0%\n",
            "answer: y2436, predicted: y2436, percentage of chars correct: 100.0%\n",
            "answer: yxd7m, predicted: yxc7n, percentage of chars correct: 60.0%\n",
            "answer: x7422, predicted: x7422, percentage of chars correct: 100.0%\n",
            "answer: wwmn6, predicted: wwnmm, percentage of chars correct: 40.0%\n",
            "answer: x7547, predicted: x7547, percentage of chars correct: 100.0%\n",
            "answer: yf347, predicted: yf347, percentage of chars correct: 100.0%\n",
            "answer: x76mn, predicted: x76mm, percentage of chars correct: 80.0%\n",
            "answer: yyg5g, predicted: yyg5g, percentage of chars correct: 100.0%\n",
            "answer: x44n4, predicted: x44m4, percentage of chars correct: 80.0%\n",
            "answer: w4nfx, predicted: w4nfx, percentage of chars correct: 100.0%\n",
            "answer: wdww8, predicted: wgwww, percentage of chars correct: 60.0%\n",
            "answer: x347n, predicted: x347n, percentage of chars correct: 100.0%\n",
            "answer: w4cnn, predicted: w4nnn, percentage of chars correct: 80.0%\n",
            "answer: w8f36, predicted: w8f36, percentage of chars correct: 100.0%\n",
            "answer: xw465, predicted: xw465, percentage of chars correct: 100.0%\n",
            "answer: x362g, predicted: e362g, percentage of chars correct: 80.0%\n",
            "answer: wyc25, predicted: wyyc2, percentage of chars correct: 40.0%\n",
            "answer: x277e, predicted: x277e, percentage of chars correct: 100.0%\n",
            "answer: wecfd, predicted: wecfc, percentage of chars correct: 80.0%\n",
            "answer: xemyg, predicted: xemyg, percentage of chars correct: 100.0%\n",
            "answer: y32yy, predicted: y32yy, percentage of chars correct: 100.0%\n",
            "answer: w8bnx, predicted: w8bnx, percentage of chars correct: 100.0%\n",
            "answer: w6ny4, predicted: w46ny, percentage of chars correct: 20.0%\n",
            "answer: xdn65, predicted: xdn65, percentage of chars correct: 100.0%\n",
            "answer: wb3ed, predicted: wb3ec, percentage of chars correct: 80.0%\n",
            "answer: xbem6, predicted: xbemm, percentage of chars correct: 80.0%\n",
            "answer: x8e8n, predicted: 88e8n, percentage of chars correct: 80.0%\n",
            "answer: w4cdc, predicted: w4ccc, percentage of chars correct: 80.0%\n",
            "answer: xcmbp, predicted: xcnnb, percentage of chars correct: 40.0%\n",
            "answer: x7746, predicted: 87746, percentage of chars correct: 80.0%\n",
            "answer: xcf88, predicted: xcf88, percentage of chars correct: 100.0%\n",
            "answer: xdcn4, predicted: xdcn4, percentage of chars correct: 100.0%\n",
            "answer: xf5g7, predicted: xf5g7, percentage of chars correct: 100.0%\n",
            "answer: xnfx5, predicted: xnfx5, percentage of chars correct: 100.0%\n",
            "answer: y53c2, predicted: y53c2, percentage of chars correct: 100.0%\n",
            "answer: x37bf, predicted: x37bf, percentage of chars correct: 100.0%\n",
            "answer: x6pdb, predicted: x6pcb, percentage of chars correct: 80.0%\n",
            "answer: yd755, predicted: yd755, percentage of chars correct: 100.0%\n",
            "answer: yyn57, predicted: yyn57, percentage of chars correct: 100.0%\n",
            "answer: xp24p, predicted: xp24p, percentage of chars correct: 100.0%\n",
            "answer: yf424, predicted: yf424, percentage of chars correct: 100.0%\n",
            "answer: yx2d4, predicted: yx2c4, percentage of chars correct: 80.0%\n",
            "answer: yfdn7, predicted: yfdn7, percentage of chars correct: 100.0%\n",
            "answer: wgnwp, predicted: mgmmp, percentage of chars correct: 40.0%\n",
            "answer: xce8d, predicted: xce8d, percentage of chars correct: 100.0%\n",
            "answer: x8xnp, predicted: x8xnp, percentage of chars correct: 100.0%\n",
            "answer: x4f7g, predicted: x4f7g, percentage of chars correct: 100.0%\n",
            "answer: ygfwe, predicted: ygfww, percentage of chars correct: 80.0%\n",
            "answer: wmpmp, predicted: wpmpm, percentage of chars correct: 20.0%\n",
            "answer: x3fwf, predicted: x3ywy, percentage of chars correct: 60.0%\n",
            "answer: y3c58, predicted: y3c58, percentage of chars correct: 100.0%\n",
            "answer: yw8y5, predicted: yw8y7, percentage of chars correct: 80.0%\n",
            "answer: wce5n, predicted: wece5, percentage of chars correct: 20.0%\n",
            "answer: xyyyw, predicted: xyyyy, percentage of chars correct: 80.0%\n",
            "answer: yg5bb, predicted: yg5bb, percentage of chars correct: 100.0%\n",
            "answer: ydd3g, predicted: ycc3g, percentage of chars correct: 60.0%\n",
            "answer: yw667, predicted: yw666, percentage of chars correct: 80.0%\n",
            "answer: y5g87, predicted: y5g87, percentage of chars correct: 100.0%\n",
            "answer: ybfx6, predicted: ybfx6, percentage of chars correct: 100.0%\n",
            "answer: w4x2m, predicted: w44x2, percentage of chars correct: 40.0%\n",
            "answer: y7mnm, predicted: y7nnn, percentage of chars correct: 60.0%\n",
            "answer: y7d75, predicted: y7d75, percentage of chars correct: 100.0%\n",
            "answer: xc68n, predicted: xc66m, percentage of chars correct: 60.0%\n",
            "answer: y4n6m, predicted: y4n6m, percentage of chars correct: 100.0%\n",
            "answer: x458w, predicted: x458w, percentage of chars correct: 100.0%\n",
            "answer: x5nyn, predicted: x5nyn, percentage of chars correct: 100.0%\n",
            "answer: wm47f, predicted: wnn47, percentage of chars correct: 20.0%\n",
            "answer: ygce8, predicted: ygce8, percentage of chars correct: 100.0%\n",
            "answer: x4gg5, predicted: x4gg5, percentage of chars correct: 100.0%\n",
            "answer: x6b5m, predicted: x6b5m, percentage of chars correct: 100.0%\n",
            "answer: wg625, predicted: wg625, percentage of chars correct: 100.0%\n",
            "answer: w7e6m, predicted: w77e6, percentage of chars correct: 40.0%\n",
            "answer: wnmyn, predicted: wmmym, percentage of chars correct: 60.0%\n",
            "answer: xwx7d, predicted: ywyx7, percentage of chars correct: 20.0%\n",
            "answer: xf4p4, predicted: xf4p4, percentage of chars correct: 100.0%\n",
            "answer: wxy4n, predicted: wxxy4, percentage of chars correct: 40.0%\n",
            "answer: xfgxb, predicted: xfgxb, percentage of chars correct: 100.0%\n",
            "answer: w46ep, predicted: w46ep, percentage of chars correct: 100.0%\n",
            "answer: 23n88, predicted: 23n88, percentage of chars correct: 100.0%\n",
            "answer: 2g783, predicted: 2g783, percentage of chars correct: 100.0%\n",
            "answer: 253dc, predicted: 253dc, percentage of chars correct: 100.0%\n",
            "answer: 2cg58, predicted: 2cg58, percentage of chars correct: 100.0%\n",
            "answer: 2356g, predicted: 2356g, percentage of chars correct: 100.0%\n",
            "answer: 25w53, predicted: 25w53, percentage of chars correct: 100.0%\n",
            "answer: 28348, predicted: 28348, percentage of chars correct: 100.0%\n",
            "answer: 22d5n, predicted: 22d5n, percentage of chars correct: 100.0%\n",
            "answer: 23mdg, predicted: 23mdg, percentage of chars correct: 100.0%\n",
            "answer: 28x47, predicted: 28x47, percentage of chars correct: 100.0%\n",
            "answer: 25egp, predicted: 25egp, percentage of chars correct: 100.0%\n",
            "answer: 25p2m, predicted: 25p2n, percentage of chars correct: 80.0%\n",
            "answer: 2cgyx, predicted: 2cgyx, percentage of chars correct: 100.0%\n",
            "answer: 2cegf, predicted: 2cegf, percentage of chars correct: 100.0%\n",
            "answer: 2n73f, predicted: 2n73f, percentage of chars correct: 100.0%\n",
            "answer: 2enf4, predicted: 2enf4, percentage of chars correct: 100.0%\n",
            "answer: 268g2, predicted: 268g2, percentage of chars correct: 100.0%\n",
            "answer: 244e2, predicted: 244e2, percentage of chars correct: 100.0%\n",
            "answer: 245y5, predicted: 245y5, percentage of chars correct: 100.0%\n",
            "answer: 24pew, predicted: 24pew, percentage of chars correct: 100.0%\n",
            "answer: 264m5, predicted: 264nn, percentage of chars correct: 60.0%\n",
            "answer: 2fxgd, predicted: 2fxgc, percentage of chars correct: 80.0%\n",
            "answer: 25257, predicted: 25257, percentage of chars correct: 100.0%\n",
            "answer: 226md, predicted: 226nn, percentage of chars correct: 60.0%\n",
            "answer: 2gyb6, predicted: 2gyb6, percentage of chars correct: 100.0%\n",
            "answer: 25m6p, predicted: 25m6p, percentage of chars correct: 100.0%\n",
            "answer: 2g7nm, predicted: 2g7nn, percentage of chars correct: 80.0%\n",
            "answer: 2bg48, predicted: 2bg48, percentage of chars correct: 100.0%\n",
            "answer: 2mpnn, predicted: 2npnn, percentage of chars correct: 80.0%\n",
            "answer: 24f6w, predicted: 24f6w, percentage of chars correct: 100.0%\n",
            "answer: 2en7g, predicted: 2en7g, percentage of chars correct: 100.0%\n",
            "answer: 243mm, predicted: 243mm, percentage of chars correct: 100.0%\n",
            "answer: 2mg87, predicted: 2mg87, percentage of chars correct: 100.0%\n",
            "answer: 2b827, predicted: 2b827, percentage of chars correct: 100.0%\n",
            "answer: 33p4e, predicted: 33p4e, percentage of chars correct: 100.0%\n",
            "answer: 377xx, predicted: 377xx, percentage of chars correct: 100.0%\n",
            "answer: 3dgmf, predicted: 3dgnn, percentage of chars correct: 60.0%\n",
            "answer: 2p2y8, predicted: 2p2y8, percentage of chars correct: 100.0%\n",
            "answer: 3p4nn, predicted: 3p4nn, percentage of chars correct: 100.0%\n",
            "answer: 3mxdn, predicted: 3mxxd, percentage of chars correct: 60.0%\n",
            "answer: 32dnn, predicted: 32dnn, percentage of chars correct: 100.0%\n",
            "answer: 33f7m, predicted: 33f7m, percentage of chars correct: 100.0%\n",
            "answer: 3cpwb, predicted: 3cpwb, percentage of chars correct: 100.0%\n",
            "answer: 2wc38, predicted: 2wwc8, percentage of chars correct: 60.0%\n",
            "answer: 44c22, predicted: 44c22, percentage of chars correct: 100.0%\n",
            "answer: 34b84, predicted: 34b84, percentage of chars correct: 100.0%\n",
            "answer: 42dw4, predicted: w2dww, percentage of chars correct: 60.0%\n",
            "answer: 33n73, predicted: 33n73, percentage of chars correct: 100.0%\n",
            "answer: 2yggg, predicted: 2yggg, percentage of chars correct: 100.0%\n",
            "answer: 43xfe, predicted: 43xfe, percentage of chars correct: 100.0%\n",
            "answer: 3ye2e, predicted: 3ye2e, percentage of chars correct: 100.0%\n",
            "answer: 3n3cf, predicted: 3n3cf, percentage of chars correct: 100.0%\n",
            "answer: 43p5d, predicted: 43p5d, percentage of chars correct: 100.0%\n",
            "answer: 37ep6, predicted: 37ep6, percentage of chars correct: 100.0%\n",
            "answer: 3d7bd, predicted: 3d7bd, percentage of chars correct: 100.0%\n",
            "answer: 3x5fm, predicted: 3x5fm, percentage of chars correct: 100.0%\n",
            "answer: 3pe4g, predicted: 3pe4g, percentage of chars correct: 100.0%\n",
            "answer: 387g2, predicted: 387g2, percentage of chars correct: 100.0%\n",
            "answer: 2ycn8, predicted: 2ycn8, percentage of chars correct: 100.0%\n",
            "answer: 2nf26, predicted: 2nf26, percentage of chars correct: 100.0%\n",
            "answer: 3b4we, predicted: 3b4ww, percentage of chars correct: 80.0%\n",
            "answer: 36w25, predicted: 36wx2, percentage of chars correct: 60.0%\n",
            "answer: 33b22, predicted: 33b22, percentage of chars correct: 100.0%\n",
            "answer: 445cc, predicted: 445cc, percentage of chars correct: 100.0%\n",
            "answer: 34fxm, predicted: 34fxn, percentage of chars correct: 80.0%\n",
            "answer: 2xc2n, predicted: 2xc2n, percentage of chars correct: 100.0%\n",
            "answer: 34pcn, predicted: 34pcn, percentage of chars correct: 100.0%\n",
            "answer: 378e5, predicted: 378e5, percentage of chars correct: 100.0%\n",
            "answer: 38n57, predicted: 38n57, percentage of chars correct: 100.0%\n",
            "answer: 2nx38, predicted: 2nx38, percentage of chars correct: 100.0%\n",
            "answer: 3bnyf, predicted: 3bnyf, percentage of chars correct: 100.0%\n"
          ],
          "name": "stdout"
        }
      ]
    },
    {
      "cell_type": "code",
      "metadata": {
        "id": "qrlkdPpUbRZp",
        "colab_type": "code",
        "colab": {
          "base_uri": "https://localhost:8080/",
          "height": 663
        },
        "outputId": "02eced12-b960-4b61-c34d-ad03f2bf7e5f"
      },
      "source": [
        "# Plot confusion matrix\n",
        "# Code from https://stackoverflow.com/questions/53290306/confusion-matrix-and-test-accuracy-for-pytorch-transfer-learning-tutorial\n",
        "\n",
        "confusion_matrix = torch.zeros(num_classes, num_classes)\n",
        "\n",
        "with torch.no_grad():\n",
        "  for i, (images, labels) in enumerate(test_loader):\n",
        "    images = images.cuda()\n",
        "    labels = labels.cuda()\n",
        "    outputs = model_saved(images)\n",
        "    _, predicted = torch.max(outputs.data, 1)\n",
        "    for t, p in zip(labels.view(-1), predicted.view(-1)):\n",
        "      confusion_matrix[t.long(), p.long()] += 1\n",
        "\n",
        "print(confusion_matrix)"
      ],
      "execution_count": 20,
      "outputs": [
        {
          "output_type": "stream",
          "text": [
            "tensor([[ 86.,   0.,   0.,   1.,   0.,   1.,   0.,   0.,   2.,   0.,   0.,   0.,\n",
            "           0.,   0.,   3.,   0.,   1.,   2.,   0.],\n",
            "        [  0.,  72.,   0.,   0.,   0.,   0.,   0.,   0.,   2.,   0.,   0.,   0.,\n",
            "           0.,   0.,   0.,   0.,   0.,   0.,   0.],\n",
            "        [  1.,   0.,  74.,   0.,   0.,   1.,   0.,   0.,   0.,   0.,   0.,   1.,\n",
            "           0.,   0.,   2.,   0.,   2.,   0.,   4.],\n",
            "        [  2.,   1.,   0.,  63.,   0.,   1.,   0.,   0.,   0.,   0.,   1.,   0.,\n",
            "           0.,   0.,   1.,   0.,   0.,   1.,   1.],\n",
            "        [  0.,   0.,   3.,   0.,  45.,   1.,   0.,   0.,   0.,   0.,   1.,   0.,\n",
            "           0.,   4.,   0.,   0.,   1.,   0.,   1.],\n",
            "        [  0.,   0.,   1.,   1.,   1.,  55.,   0.,   0.,   0.,   0.,   0.,   0.,\n",
            "           0.,   1.,   1.,   1.,   0.,   1.,   0.],\n",
            "        [  0.,   0.,   2.,   1.,   2.,   0.,  61.,   0.,   1.,   0.,   0.,   0.,\n",
            "           0.,   0.,   1.,   0.,   1.,   0.,   0.],\n",
            "        [  0.,   0.,   0.,   0.,   0.,   0.,   0.,  47.,   0.,   0.,   0.,   0.,\n",
            "           0.,   1.,   1.,   0.,   1.,   0.,   0.],\n",
            "        [  0.,   0.,   0.,   0.,   0.,   0.,   1.,   0.,  50.,   1.,   2.,   1.,\n",
            "           1.,   2.,   5.,   0.,   1.,   0.,   1.],\n",
            "        [  0.,   0.,   0.,   0.,   0.,   1.,   1.,   0.,  13.,  31.,   0.,   0.,\n",
            "           1.,   0.,   1.,   0.,   0.,   1.,   0.],\n",
            "        [  0.,   0.,   0.,   0.,   0.,   1.,   0.,   0.,   2.,   0.,  55.,   0.,\n",
            "           0.,   0.,   1.,   0.,   2.,   0.,   0.],\n",
            "        [  1.,   1.,   0.,   0.,   1.,   1.,   0.,   0.,   0.,   0.,   0.,  55.,\n",
            "           0.,   1.,   3.,   0.,   0.,   0.,   2.],\n",
            "        [  0.,   0.,   0.,   0.,   0.,   0.,   0.,   0.,   0.,   0.,   0.,   0.,\n",
            "          86.,   0.,   0.,   1.,   0.,   0.,   0.],\n",
            "        [  1.,   0.,   0.,   0.,   1.,   0.,   0.,   0.,   0.,   0.,   0.,   0.,\n",
            "           0.,  47.,  29.,   1.,   0.,   0.,   0.],\n",
            "        [  1.,   0.,   1.,   2.,   1.,   0.,   0.,   1.,   0.,   1.,   0.,   0.,\n",
            "           0.,  18., 105.,   1.,   1.,   0.,   0.],\n",
            "        [  0.,   0.,   0.,   0.,   2.,   1.,   0.,   1.,   1.,   0.,   0.,   0.,\n",
            "           0.,   2.,   0.,  55.,   1.,   0.,   1.],\n",
            "        [  0.,   0.,   0.,   0.,   0.,   0.,   1.,   0.,   3.,   0.,   0.,   0.,\n",
            "           0.,   4.,   0.,   0.,  68.,   0.,   1.],\n",
            "        [  0.,   0.,   2.,   0.,   1.,   0.,   3.,   0.,   0.,   0.,   2.,   0.,\n",
            "           0.,   1.,   0.,   1.,   0.,  92.,   1.],\n",
            "        [  0.,   0.,   0.,   0.,   0.,   0.,   0.,   0.,   0.,   0.,   0.,   1.,\n",
            "           0.,   0.,   2.,   0.,   0.,   2.,  88.]])\n"
          ],
          "name": "stdout"
        }
      ]
    },
    {
      "cell_type": "code",
      "metadata": {
        "id": "GJI5AznScg-8",
        "colab_type": "code",
        "colab": {
          "base_uri": "https://localhost:8080/",
          "height": 68
        },
        "outputId": "17c71191-65cc-4c93-a18a-6809d6427287"
      },
      "source": [
        "# Accuracy per class\n",
        "print(confusion_matrix.diag()/confusion_matrix.sum(1))"
      ],
      "execution_count": 21,
      "outputs": [
        {
          "output_type": "stream",
          "text": [
            "tensor([0.8958, 0.9730, 0.8706, 0.8873, 0.8036, 0.8871, 0.8841, 0.9400, 0.7692,\n",
            "        0.6327, 0.9016, 0.8462, 0.9885, 0.5949, 0.7955, 0.8594, 0.8831, 0.8932,\n",
            "        0.9462])\n"
          ],
          "name": "stdout"
        }
      ]
    },
    {
      "cell_type": "code",
      "metadata": {
        "id": "a1ZeNTknddU0",
        "colab_type": "code",
        "colab": {}
      },
      "source": [
        "# Plot confusion matrix by plt\n",
        "# Code from https://deeplizard.com/learn/video/0LhiS6yu2qQ\n",
        "\n",
        "import itertools\n",
        "import numpy as np\n",
        "\n",
        "def plot_confusion_matrix(cm, classes, normalize=False, title='Confusion matrix', cmap=plt.cm.Blues):\n",
        "    if normalize:\n",
        "        cm = cm.astype('float') / cm.sum(axis=1)[:, np.newaxis]\n",
        "        print(\"Normalized confusion matrix\")\n",
        "    else:\n",
        "        print('Confusion matrix, without normalization')\n",
        "\n",
        "    print(cm)\n",
        "    \n",
        "    plt.figure(figsize=(10,10))\n",
        "\n",
        "    plt.imshow(cm, interpolation='nearest', cmap=cmap)\n",
        "    plt.title(title)\n",
        "    plt.colorbar()\n",
        "    tick_marks = np.arange(len(classes))\n",
        "    plt.xticks(tick_marks, classes, rotation=45)\n",
        "    plt.yticks(tick_marks, classes)\n",
        "\n",
        "    fmt = '.2f' if normalize else 'd'\n",
        "    thresh = cm.max() / 2.\n",
        "    for i, j in itertools.product(range(cm.shape[0]), range(cm.shape[1])):\n",
        "        plt.text(j, i, format(cm[i, j], fmt), horizontalalignment=\"center\", color=\"white\" if cm[i, j] > thresh else \"black\")\n",
        "\n",
        "    plt.tight_layout()\n",
        "    plt.ylabel('True label')\n",
        "    plt.xlabel('Predicted label')"
      ],
      "execution_count": 22,
      "outputs": []
    },
    {
      "cell_type": "code",
      "metadata": {
        "id": "7ndxfycnd-eZ",
        "colab_type": "code",
        "colab": {
          "base_uri": "https://localhost:8080/",
          "height": 1000
        },
        "outputId": "42ce2781-cfc7-4fbd-e5e5-eafd9f61901c"
      },
      "source": [
        "plot_confusion_matrix(confusion_matrix.numpy(), train_dataset.classes, normalize=True)"
      ],
      "execution_count": 23,
      "outputs": [
        {
          "output_type": "stream",
          "text": [
            "Normalized confusion matrix\n",
            "[[0.89583333 0.         0.         0.01041667 0.         0.01041667\n",
            "  0.         0.         0.02083333 0.         0.         0.\n",
            "  0.         0.         0.03125    0.         0.01041667 0.02083333\n",
            "  0.        ]\n",
            " [0.         0.97297297 0.         0.         0.         0.\n",
            "  0.         0.         0.02702703 0.         0.         0.\n",
            "  0.         0.         0.         0.         0.         0.\n",
            "  0.        ]\n",
            " [0.01176471 0.         0.87058824 0.         0.         0.01176471\n",
            "  0.         0.         0.         0.         0.         0.01176471\n",
            "  0.         0.         0.02352941 0.         0.02352941 0.\n",
            "  0.04705882]\n",
            " [0.02816901 0.01408451 0.         0.88732394 0.         0.01408451\n",
            "  0.         0.         0.         0.         0.01408451 0.\n",
            "  0.         0.         0.01408451 0.         0.         0.01408451\n",
            "  0.01408451]\n",
            " [0.         0.         0.05357143 0.         0.80357143 0.01785714\n",
            "  0.         0.         0.         0.         0.01785714 0.\n",
            "  0.         0.07142857 0.         0.         0.01785714 0.\n",
            "  0.01785714]\n",
            " [0.         0.         0.01612903 0.01612903 0.01612903 0.88709677\n",
            "  0.         0.         0.         0.         0.         0.\n",
            "  0.         0.01612903 0.01612903 0.01612903 0.         0.01612903\n",
            "  0.        ]\n",
            " [0.         0.         0.02898551 0.01449275 0.02898551 0.\n",
            "  0.88405797 0.         0.01449275 0.         0.         0.\n",
            "  0.         0.         0.01449275 0.         0.01449275 0.\n",
            "  0.        ]\n",
            " [0.         0.         0.         0.         0.         0.\n",
            "  0.         0.94       0.         0.         0.         0.\n",
            "  0.         0.02       0.02       0.         0.02       0.\n",
            "  0.        ]\n",
            " [0.         0.         0.         0.         0.         0.\n",
            "  0.01538462 0.         0.76923077 0.01538462 0.03076923 0.01538462\n",
            "  0.01538462 0.03076923 0.07692308 0.         0.01538462 0.\n",
            "  0.01538462]\n",
            " [0.         0.         0.         0.         0.         0.02040816\n",
            "  0.02040816 0.         0.26530612 0.63265306 0.         0.\n",
            "  0.02040816 0.         0.02040816 0.         0.         0.02040816\n",
            "  0.        ]\n",
            " [0.         0.         0.         0.         0.         0.01639344\n",
            "  0.         0.         0.03278689 0.         0.90163934 0.\n",
            "  0.         0.         0.01639344 0.         0.03278689 0.\n",
            "  0.        ]\n",
            " [0.01538462 0.01538462 0.         0.         0.01538462 0.01538462\n",
            "  0.         0.         0.         0.         0.         0.84615385\n",
            "  0.         0.01538462 0.04615385 0.         0.         0.\n",
            "  0.03076923]\n",
            " [0.         0.         0.         0.         0.         0.\n",
            "  0.         0.         0.         0.         0.         0.\n",
            "  0.98850575 0.         0.         0.01149425 0.         0.\n",
            "  0.        ]\n",
            " [0.01265823 0.         0.         0.         0.01265823 0.\n",
            "  0.         0.         0.         0.         0.         0.\n",
            "  0.         0.59493671 0.36708861 0.01265823 0.         0.\n",
            "  0.        ]\n",
            " [0.00757576 0.         0.00757576 0.01515152 0.00757576 0.\n",
            "  0.         0.00757576 0.         0.00757576 0.         0.\n",
            "  0.         0.13636364 0.79545455 0.00757576 0.00757576 0.\n",
            "  0.        ]\n",
            " [0.         0.         0.         0.         0.03125    0.015625\n",
            "  0.         0.015625   0.015625   0.         0.         0.\n",
            "  0.         0.03125    0.         0.859375   0.015625   0.\n",
            "  0.015625  ]\n",
            " [0.         0.         0.         0.         0.         0.\n",
            "  0.01298701 0.         0.03896104 0.         0.         0.\n",
            "  0.         0.05194805 0.         0.         0.88311688 0.\n",
            "  0.01298701]\n",
            " [0.         0.         0.01941748 0.         0.00970874 0.\n",
            "  0.02912621 0.         0.         0.         0.01941748 0.\n",
            "  0.         0.00970874 0.         0.00970874 0.         0.89320388\n",
            "  0.00970874]\n",
            " [0.         0.         0.         0.         0.         0.\n",
            "  0.         0.         0.         0.         0.         0.01075269\n",
            "  0.         0.         0.02150538 0.         0.         0.02150538\n",
            "  0.94623656]]\n"
          ],
          "name": "stdout"
        },
        {
          "output_type": "display_data",
          "data": {
            "image/png": "[encoded data removed]",
            "text/plain": [
              "<Figure size 720x720 with 2 Axes>"
            ]
          },
          "metadata": {
            "tags": [],
            "needs_background": "light"
          }
        }
      ]
    }
  ]
}